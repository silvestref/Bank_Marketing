{
 "cells": [
  {
   "cell_type": "markdown",
   "id": "e61ef9ad",
   "metadata": {},
   "source": [
    "# Análisis de datos y uso de CatBoost para la predicción de clientes solicitantes de un deposito a plazo fijo                          "
   ]
  },
  {
   "cell_type": "markdown",
   "id": "8254e265",
   "metadata": {},
   "source": [
    "## Contenido"
   ]
  },
  {
   "cell_type": "markdown",
   "id": "4e2c4371",
   "metadata": {},
   "source": [
    "#### 1. Introducción\n",
    "\n",
    "    * Identificación del problema\n",
    "    * ¿Que es un deposito a plazo fijo?\n",
    "    * Objetivos\n",
    "    \n",
    "#### 2. Importación de librerías y carga de datos\n",
    "\n",
    "    \n",
    "#### 3. Exploración de los datos\n",
    "\n",
    "    * Eliminación y cambio de tipo de variables   \n",
    "    \n",
    "#### 4. Preprocesamiento de datos\n",
    "\n",
    "    * Identificación de outliers\n",
    "    * Imputación de outliers\n",
    "    * Identificación de valores faltantes\n",
    "       \n",
    "#### 5. Análisis y visualización de datos\n",
    "\n",
    "    * Análisis univariado\n",
    "    * Análisis bivariado\n",
    "    * Correlación de Pearson\n",
    "    * V de Cramer\n",
    "\n",
    "#### 6. Transformación de datos\n",
    "\n",
    "    * Codificación de variables\n",
    "    * Creación de conjuntos de entrenamiento y validación\n",
    "    * Rebalanceo de datos\n",
    "\n",
    "#### 7. Construcción y evaluación del modelo predictivo\n",
    "\n",
    "    * Elección de hiperparámetros\n",
    "        * Hiperparámetros para datos con outliers y sin codificación manual\n",
    "        * Hiperparámetros para datos con outliers y con codificación manual\n",
    "        * Hiperparámetros para datos sin outliers y sin codificación manual\n",
    "        * Hiperparámetros para datos sin outliers y con codificación manual\n",
    "    * Elección del mejor modelo\n",
    "    \n",
    "#### 8. Conclusiones"
   ]
  },
  {
   "cell_type": "markdown",
   "id": "124d73dc",
   "metadata": {},
   "source": [
    "---"
   ]
  },
  {
   "cell_type": "markdown",
   "id": "1b3250e5",
   "metadata": {},
   "source": [
    "## 1. Introducción"
   ]
  },
  {
   "cell_type": "markdown",
   "id": "53ea7eb0",
   "metadata": {},
   "source": [
    "### Identificación del problema"
   ]
  },
  {
   "cell_type": "markdown",
   "id": "05dd84a1",
   "metadata": {},
   "source": [
    "Uno de los usos más populares de la ciencia de datos es en el sector del marketing, puesto que es una herramienta muy poderosa que ayuda a las empresas a predecir de cierta forma el resultado de una campaña de marketing en base a experiencias pasadas, y que factores serán fundamentales para su éxito o fracaso. A la vez que también ayuda a conocer los perfiles de las personas que tienen más probabilidad de convertirse en futuros clientes con el fin de desarrollar estrategias personalizadas que puedan captar de forma más efectiva su interés. Conocer de antemano o a posteriori esta información es de vital importancia ya que ayuda en gran medida a que la empresa pueda conocer más acerca del público al que se tiene que enfocar, y que en el futuro se puedan desarrollar campañas de marketing que resulten más efectivas y eficientes. Entonces, se identifica que la problemática a tratar es el entender los factores que influyen a que una persona solicite o no un depósito a plazo fijo ofrecido por un determinado banco y predecir dado una serie de características, que personas solicitarán o no dicho servicio. Para ello, se requiere analizar la última campaña de marketing ejecutada por el banco y algunas características de sus clientes, con el fin de identificar patrones que nos puedan ayudar a comprender y encontrar soluciones para que el banco pueda desarrollar estrategias efectivas que les ayuden a captar el interés de las personas en solicitar este tipo de depósito, y en base a esto, construir un modelo predictivo que permita predecir que personas tomaran este servicio o no."
   ]
  },
  {
   "cell_type": "markdown",
   "id": "313cbebb",
   "metadata": {},
   "source": [
    "### ¿Qué es un depósito a plazo fijo?"
   ]
  },
  {
   "cell_type": "markdown",
   "id": "5149ad7c",
   "metadata": {},
   "source": [
    "Es una inversión que consiste en el depósito de una cantidad determinada de dinero a una institución financiera por un periodo de tiempo, en donde el cliente no puede retirar el dinero depositado hasta que este periodo de tiempo haya finalizado. La ventaja de este tipo de depósito es que permite ahorrar dinero ganando intereses, por lo cual, muchas personas lo ven como una forma efectiva de generar ingresos pasivos."
   ]
  },
  {
   "cell_type": "markdown",
   "id": "34f87049",
   "metadata": {},
   "source": [
    "### Objetivos"
   ]
  },
  {
   "cell_type": "markdown",
   "id": "4d2d4f0e",
   "metadata": {},
   "source": [
    "* Realizar análisis de datos para encontrar y entender los factores que influyen a que una persona solicite o no un depósito a plazo fijo.\n",
    "* Construir un modelo de aprendizaje automático con CatBoost para la predicción de solicitantes de un depósito a plazo fijo.\n",
    "* Implementar correctamente cada uno de los pasos de la metodología de ciencia de datos en la elaboración de este proyecto"
   ]
  },
  {
   "cell_type": "markdown",
   "id": "76383f17",
   "metadata": {},
   "source": [
    "---"
   ]
  },
  {
   "cell_type": "markdown",
   "id": "c73bd369",
   "metadata": {},
   "source": [
    "## 2. Importación de librerías y carga de datos"
   ]
  },
  {
   "cell_type": "code",
   "execution_count": 30,
   "id": "9a14def7",
   "metadata": {},
   "outputs": [],
   "source": [
    "import pandas as pd\n",
    "import matplotlib.pyplot as plt\n",
    "import seaborn as sns\n",
    "import numpy as np\n",
    "from collections import defaultdict\n",
    "from sklearn.preprocessing import LabelEncoder\n",
    "from sklearn.model_selection import train_test_split\n",
    "from sklearn.experimental import enable_iterative_imputer\n",
    "from sklearn.impute import IterativeImputer\n",
    "from sklearn.ensemble import RandomForestRegressor\n",
    "from matplotlib.ticker import FormatStrFormatter\n",
    "import association_metrics as am\n",
    "from collections import Counter\n",
    "from catboost import CatBoostClassifier, Pool\n",
    "import optuna  \n",
    "from sklearn.metrics import confusion_matrix, f1_score, accuracy_score, classification_report\n",
    "from sklearn.metrics import roc_auc_score\n",
    "from sklearn.metrics import roc_curve\n",
    "import warnings\n",
    "warnings.filterwarnings('ignore')"
   ]
  },
  {
   "cell_type": "markdown",
   "id": "b8b0c76c",
   "metadata": {},
   "source": [
    "El conjunto de datos con el que vamos a tratar almacena características de 11162 personas a los que un banco contactó para ofrecerles el servicio de depósito a plazo fijo, e indica si estos al final decidieron solicitar dicho depósito o no."
   ]
  },
  {
   "cell_type": "code",
   "execution_count": 13,
   "id": "80aca00c",
   "metadata": {},
   "outputs": [],
   "source": [
    "data = pd.read_csv(\"Bank_Marketing.csv\")"
   ]
  },
  {
   "cell_type": "markdown",
   "id": "32ec8cb1",
   "metadata": {},
   "source": [
    "---"
   ]
  },
  {
   "cell_type": "markdown",
   "id": "0bc5f9f6",
   "metadata": {},
   "source": [
    "## 3. Exploración de los datos"
   ]
  },
  {
   "cell_type": "code",
   "execution_count": 3,
   "id": "f96cbd20",
   "metadata": {},
   "outputs": [
    {
     "data": {
      "text/html": [
       "<div>\n",
       "<style scoped>\n",
       "    .dataframe tbody tr th:only-of-type {\n",
       "        vertical-align: middle;\n",
       "    }\n",
       "\n",
       "    .dataframe tbody tr th {\n",
       "        vertical-align: top;\n",
       "    }\n",
       "\n",
       "    .dataframe thead th {\n",
       "        text-align: right;\n",
       "    }\n",
       "</style>\n",
       "<table border=\"1\" class=\"dataframe\">\n",
       "  <thead>\n",
       "    <tr style=\"text-align: right;\">\n",
       "      <th></th>\n",
       "      <th>age</th>\n",
       "      <th>job</th>\n",
       "      <th>marital</th>\n",
       "      <th>education</th>\n",
       "      <th>default</th>\n",
       "      <th>balance</th>\n",
       "      <th>housing</th>\n",
       "      <th>loan</th>\n",
       "      <th>contact</th>\n",
       "      <th>day</th>\n",
       "      <th>month</th>\n",
       "      <th>duration</th>\n",
       "      <th>campaign</th>\n",
       "      <th>pdays</th>\n",
       "      <th>previous</th>\n",
       "      <th>poutcome</th>\n",
       "      <th>deposit</th>\n",
       "    </tr>\n",
       "  </thead>\n",
       "  <tbody>\n",
       "    <tr>\n",
       "      <th>0</th>\n",
       "      <td>59</td>\n",
       "      <td>admin.</td>\n",
       "      <td>married</td>\n",
       "      <td>secondary</td>\n",
       "      <td>no</td>\n",
       "      <td>2343</td>\n",
       "      <td>yes</td>\n",
       "      <td>no</td>\n",
       "      <td>unknown</td>\n",
       "      <td>5</td>\n",
       "      <td>may</td>\n",
       "      <td>1042</td>\n",
       "      <td>1</td>\n",
       "      <td>-1</td>\n",
       "      <td>0</td>\n",
       "      <td>unknown</td>\n",
       "      <td>yes</td>\n",
       "    </tr>\n",
       "    <tr>\n",
       "      <th>1</th>\n",
       "      <td>56</td>\n",
       "      <td>admin.</td>\n",
       "      <td>married</td>\n",
       "      <td>secondary</td>\n",
       "      <td>no</td>\n",
       "      <td>45</td>\n",
       "      <td>no</td>\n",
       "      <td>no</td>\n",
       "      <td>unknown</td>\n",
       "      <td>5</td>\n",
       "      <td>may</td>\n",
       "      <td>1467</td>\n",
       "      <td>1</td>\n",
       "      <td>-1</td>\n",
       "      <td>0</td>\n",
       "      <td>unknown</td>\n",
       "      <td>yes</td>\n",
       "    </tr>\n",
       "    <tr>\n",
       "      <th>2</th>\n",
       "      <td>41</td>\n",
       "      <td>technician</td>\n",
       "      <td>married</td>\n",
       "      <td>secondary</td>\n",
       "      <td>no</td>\n",
       "      <td>1270</td>\n",
       "      <td>yes</td>\n",
       "      <td>no</td>\n",
       "      <td>unknown</td>\n",
       "      <td>5</td>\n",
       "      <td>may</td>\n",
       "      <td>1389</td>\n",
       "      <td>1</td>\n",
       "      <td>-1</td>\n",
       "      <td>0</td>\n",
       "      <td>unknown</td>\n",
       "      <td>yes</td>\n",
       "    </tr>\n",
       "    <tr>\n",
       "      <th>3</th>\n",
       "      <td>55</td>\n",
       "      <td>services</td>\n",
       "      <td>married</td>\n",
       "      <td>secondary</td>\n",
       "      <td>no</td>\n",
       "      <td>2476</td>\n",
       "      <td>yes</td>\n",
       "      <td>no</td>\n",
       "      <td>unknown</td>\n",
       "      <td>5</td>\n",
       "      <td>may</td>\n",
       "      <td>579</td>\n",
       "      <td>1</td>\n",
       "      <td>-1</td>\n",
       "      <td>0</td>\n",
       "      <td>unknown</td>\n",
       "      <td>yes</td>\n",
       "    </tr>\n",
       "    <tr>\n",
       "      <th>4</th>\n",
       "      <td>54</td>\n",
       "      <td>admin.</td>\n",
       "      <td>married</td>\n",
       "      <td>tertiary</td>\n",
       "      <td>no</td>\n",
       "      <td>184</td>\n",
       "      <td>no</td>\n",
       "      <td>no</td>\n",
       "      <td>unknown</td>\n",
       "      <td>5</td>\n",
       "      <td>may</td>\n",
       "      <td>673</td>\n",
       "      <td>2</td>\n",
       "      <td>-1</td>\n",
       "      <td>0</td>\n",
       "      <td>unknown</td>\n",
       "      <td>yes</td>\n",
       "    </tr>\n",
       "  </tbody>\n",
       "</table>\n",
       "</div>"
      ],
      "text/plain": [
       "   age         job  marital  education default  balance housing loan  contact  \\\n",
       "0   59      admin.  married  secondary      no     2343     yes   no  unknown   \n",
       "1   56      admin.  married  secondary      no       45      no   no  unknown   \n",
       "2   41  technician  married  secondary      no     1270     yes   no  unknown   \n",
       "3   55    services  married  secondary      no     2476     yes   no  unknown   \n",
       "4   54      admin.  married   tertiary      no      184      no   no  unknown   \n",
       "\n",
       "   day month  duration  campaign  pdays  previous poutcome deposit  \n",
       "0    5   may      1042         1     -1         0  unknown     yes  \n",
       "1    5   may      1467         1     -1         0  unknown     yes  \n",
       "2    5   may      1389         1     -1         0  unknown     yes  \n",
       "3    5   may       579         1     -1         0  unknown     yes  \n",
       "4    5   may       673         2     -1         0  unknown     yes  "
      ]
     },
     "execution_count": 3,
     "metadata": {},
     "output_type": "execute_result"
    }
   ],
   "source": [
    "data.head()"
   ]
  },
  {
   "cell_type": "code",
   "execution_count": 4,
   "id": "a5076250",
   "metadata": {},
   "outputs": [
    {
     "data": {
      "text/plain": [
       "(11162, 17)"
      ]
     },
     "execution_count": 4,
     "metadata": {},
     "output_type": "execute_result"
    }
   ],
   "source": [
    "data.shape"
   ]
  },
  {
   "cell_type": "code",
   "execution_count": 6,
   "id": "51a249ce",
   "metadata": {},
   "outputs": [
    {
     "data": {
      "text/html": [
       "<div>\n",
       "<style scoped>\n",
       "    .dataframe tbody tr th:only-of-type {\n",
       "        vertical-align: middle;\n",
       "    }\n",
       "\n",
       "    .dataframe tbody tr th {\n",
       "        vertical-align: top;\n",
       "    }\n",
       "\n",
       "    .dataframe thead th {\n",
       "        text-align: right;\n",
       "    }\n",
       "</style>\n",
       "<table border=\"1\" class=\"dataframe\">\n",
       "  <thead>\n",
       "    <tr style=\"text-align: right;\">\n",
       "      <th></th>\n",
       "      <th>age</th>\n",
       "      <th>balance</th>\n",
       "      <th>day</th>\n",
       "      <th>duration</th>\n",
       "      <th>campaign</th>\n",
       "      <th>pdays</th>\n",
       "      <th>previous</th>\n",
       "    </tr>\n",
       "  </thead>\n",
       "  <tbody>\n",
       "    <tr>\n",
       "      <th>count</th>\n",
       "      <td>11162.000000</td>\n",
       "      <td>11162.000000</td>\n",
       "      <td>11162.000000</td>\n",
       "      <td>11162.000000</td>\n",
       "      <td>11162.000000</td>\n",
       "      <td>11162.000000</td>\n",
       "      <td>11162.000000</td>\n",
       "    </tr>\n",
       "    <tr>\n",
       "      <th>mean</th>\n",
       "      <td>41.231948</td>\n",
       "      <td>1528.538524</td>\n",
       "      <td>15.658036</td>\n",
       "      <td>371.993818</td>\n",
       "      <td>2.508421</td>\n",
       "      <td>51.330407</td>\n",
       "      <td>0.832557</td>\n",
       "    </tr>\n",
       "    <tr>\n",
       "      <th>std</th>\n",
       "      <td>11.913369</td>\n",
       "      <td>3225.413326</td>\n",
       "      <td>8.420740</td>\n",
       "      <td>347.128386</td>\n",
       "      <td>2.722077</td>\n",
       "      <td>108.758282</td>\n",
       "      <td>2.292007</td>\n",
       "    </tr>\n",
       "    <tr>\n",
       "      <th>min</th>\n",
       "      <td>18.000000</td>\n",
       "      <td>-6847.000000</td>\n",
       "      <td>1.000000</td>\n",
       "      <td>2.000000</td>\n",
       "      <td>1.000000</td>\n",
       "      <td>-1.000000</td>\n",
       "      <td>0.000000</td>\n",
       "    </tr>\n",
       "    <tr>\n",
       "      <th>25%</th>\n",
       "      <td>32.000000</td>\n",
       "      <td>122.000000</td>\n",
       "      <td>8.000000</td>\n",
       "      <td>138.000000</td>\n",
       "      <td>1.000000</td>\n",
       "      <td>-1.000000</td>\n",
       "      <td>0.000000</td>\n",
       "    </tr>\n",
       "    <tr>\n",
       "      <th>50%</th>\n",
       "      <td>39.000000</td>\n",
       "      <td>550.000000</td>\n",
       "      <td>15.000000</td>\n",
       "      <td>255.000000</td>\n",
       "      <td>2.000000</td>\n",
       "      <td>-1.000000</td>\n",
       "      <td>0.000000</td>\n",
       "    </tr>\n",
       "    <tr>\n",
       "      <th>75%</th>\n",
       "      <td>49.000000</td>\n",
       "      <td>1708.000000</td>\n",
       "      <td>22.000000</td>\n",
       "      <td>496.000000</td>\n",
       "      <td>3.000000</td>\n",
       "      <td>20.750000</td>\n",
       "      <td>1.000000</td>\n",
       "    </tr>\n",
       "    <tr>\n",
       "      <th>max</th>\n",
       "      <td>95.000000</td>\n",
       "      <td>81204.000000</td>\n",
       "      <td>31.000000</td>\n",
       "      <td>3881.000000</td>\n",
       "      <td>63.000000</td>\n",
       "      <td>854.000000</td>\n",
       "      <td>58.000000</td>\n",
       "    </tr>\n",
       "  </tbody>\n",
       "</table>\n",
       "</div>"
      ],
      "text/plain": [
       "                age       balance           day      duration      campaign  \\\n",
       "count  11162.000000  11162.000000  11162.000000  11162.000000  11162.000000   \n",
       "mean      41.231948   1528.538524     15.658036    371.993818      2.508421   \n",
       "std       11.913369   3225.413326      8.420740    347.128386      2.722077   \n",
       "min       18.000000  -6847.000000      1.000000      2.000000      1.000000   \n",
       "25%       32.000000    122.000000      8.000000    138.000000      1.000000   \n",
       "50%       39.000000    550.000000     15.000000    255.000000      2.000000   \n",
       "75%       49.000000   1708.000000     22.000000    496.000000      3.000000   \n",
       "max       95.000000  81204.000000     31.000000   3881.000000     63.000000   \n",
       "\n",
       "              pdays      previous  \n",
       "count  11162.000000  11162.000000  \n",
       "mean      51.330407      0.832557  \n",
       "std      108.758282      2.292007  \n",
       "min       -1.000000      0.000000  \n",
       "25%       -1.000000      0.000000  \n",
       "50%       -1.000000      0.000000  \n",
       "75%       20.750000      1.000000  \n",
       "max      854.000000     58.000000  "
      ]
     },
     "execution_count": 6,
     "metadata": {},
     "output_type": "execute_result"
    }
   ],
   "source": [
    "data.describe()"
   ]
  },
  {
   "cell_type": "markdown",
   "id": "a6608932",
   "metadata": {},
   "source": [
    "Podemos extraer algunos insights simples de esta tabla, como que el promedio de edad de los clientes de la empresa ronda en los 41 años. También que el saldo promedio que tienen en su cuenta es de 1528, pero si observamos la desviación estándar de los datos de esta variable, observamos que tiene un valor 3225, el cual es considerablemente alto, por lo que podemos decir que el saldo de los clientes está muy distribuido en nuestro conjunto de datos, presentando una alta variación. Por último, podemos observar que la variable pdays (número de días después del último contacto en la campaña anterior del banco) tiene un valor mínimo de -1, lo cual al momento de la interpretabilidad en el análisis de datos puede resultar algo confuso, es por ello que en la sección del preprocesamiento de datos se procederá a reemplazar este valor por un 0."
   ]
  },
  {
   "cell_type": "markdown",
   "id": "bbbe359a",
   "metadata": {},
   "source": [
    "### Eliminación y cambio de tipo de variables"
   ]
  },
  {
   "cell_type": "markdown",
   "id": "0e4ab8eb",
   "metadata": {},
   "source": [
    "Hay que tener en cuenta algo de suma importancia en nuestros datos, y es que la variable \"duration\" hace referencia al tiempo de duración en segundos del último contacto que se realizó con la persona antes que decidiera solicitar o no un depósito a plazo fijo, y como naturalmente este valor no se conoce hasta después de haber realizado la llamada que es cuando ya se sabe la decisión de la persona, se procederá a eliminar al momento de construir nuestro modelo predictivo, puesto que estaría otorgando información que de por si no se conoce de antemano."
   ]
  },
  {
   "cell_type": "code",
   "execution_count": 7,
   "id": "f3ec0394",
   "metadata": {},
   "outputs": [
    {
     "name": "stdout",
     "output_type": "stream",
     "text": [
      "<class 'pandas.core.frame.DataFrame'>\n",
      "RangeIndex: 11162 entries, 0 to 11161\n",
      "Data columns (total 17 columns):\n",
      " #   Column     Non-Null Count  Dtype \n",
      "---  ------     --------------  ----- \n",
      " 0   age        11162 non-null  int64 \n",
      " 1   job        11162 non-null  object\n",
      " 2   marital    11162 non-null  object\n",
      " 3   education  11162 non-null  object\n",
      " 4   default    11162 non-null  object\n",
      " 5   balance    11162 non-null  int64 \n",
      " 6   housing    11162 non-null  object\n",
      " 7   loan       11162 non-null  object\n",
      " 8   contact    11162 non-null  object\n",
      " 9   day        11162 non-null  int64 \n",
      " 10  month      11162 non-null  object\n",
      " 11  duration   11162 non-null  int64 \n",
      " 12  campaign   11162 non-null  int64 \n",
      " 13  pdays      11162 non-null  int64 \n",
      " 14  previous   11162 non-null  int64 \n",
      " 15  poutcome   11162 non-null  object\n",
      " 16  deposit    11162 non-null  object\n",
      "dtypes: int64(7), object(10)\n",
      "memory usage: 1.4+ MB\n"
     ]
    }
   ],
   "source": [
    "data.info()"
   ]
  },
  {
   "cell_type": "markdown",
   "id": "a4fd60db",
   "metadata": {},
   "source": [
    "Observamos que aparentemente todas nuestras variables de entrada parecen tener cierta relación con la decisión de una persona en solicitar o no un depósito a plazo fijo, por lo que se decide por el momento no eliminar ninguna de estas variables de forma injustificada."
   ]
  },
  {
   "cell_type": "markdown",
   "id": "5d073a76",
   "metadata": {},
   "source": [
    "También observamos que todas las variables de nuestro conjunto de datos están correctamente etiquetadas con el tipo de dato que les corresponde, por lo tanto, no se requiere realizar conversión alguna."
   ]
  },
  {
   "cell_type": "markdown",
   "id": "730cad91",
   "metadata": {},
   "source": [
    "---"
   ]
  },
  {
   "cell_type": "markdown",
   "id": "19171265",
   "metadata": {},
   "source": [
    "## 4. Preprocesamiento de datos"
   ]
  },
  {
   "cell_type": "markdown",
   "id": "b7ad6c12",
   "metadata": {},
   "source": [
    "Como habíamos explicado en la sección anterior, procederemos a reemplazar los valores iguales a -1 por 0 en la variable pdays."
   ]
  },
  {
   "cell_type": "code",
   "execution_count": 14,
   "id": "0f69899a",
   "metadata": {},
   "outputs": [],
   "source": [
    "for i in range(0,data.shape[0]):\n",
    "    if data[\"pdays\"].iloc[i] == -1:\n",
    "        data[\"pdays\"].iloc[i] = 0"
   ]
  },
  {
   "cell_type": "markdown",
   "id": "99b897c1",
   "metadata": {},
   "source": [
    "Entonces, si ahora observamos el valor mínimo de la variable pdays obtendremos un 0 como resultado en vez de un -1."
   ]
  },
  {
   "cell_type": "code",
   "execution_count": 16,
   "id": "dc7ab5a0",
   "metadata": {},
   "outputs": [
    {
     "data": {
      "text/plain": [
       "0"
      ]
     },
     "execution_count": 16,
     "metadata": {},
     "output_type": "execute_result"
    }
   ],
   "source": [
    "data[\"pdays\"].min()"
   ]
  },
  {
   "cell_type": "markdown",
   "id": "c5f42204",
   "metadata": {},
   "source": [
    "### Identificación de outliers"
   ]
  },
  {
   "cell_type": "code",
   "execution_count": 22,
   "id": "9915520d",
   "metadata": {},
   "outputs": [
    {
     "data": {
      "image/png": "[encoded data removed]",
      "text/plain": [
       "<Figure size 1152x720 with 4 Axes>"
      ]
     },
     "metadata": {
      "needs_background": "light"
     },
     "output_type": "display_data"
    }
   ],
   "source": [
    "fig, ax = plt.subplots(2, 2, figsize=(16,10))\n",
    "plt.subplots_adjust(wspace=0.3, top=0.75)\n",
    "sns.boxplot(ax=ax[0][0], data= data[[\"age\", \"day\", \"campaign\", \"previous\"]], palette=\"Set3\")\n",
    "sns.boxplot(ax=ax[0][1], data= data[[\"balance\"]], palette=\"Pastel1\")\n",
    "sns.boxplot(ax=ax[1][0], data= data[[\"duration\"]], palette=\"Pastel1\")\n",
    "sns.boxplot(ax=ax[1][1], data= data[[\"pdays\"]], palette=\"Pastel1\")\n",
    "plt.show()"
   ]
  },
  {
   "cell_type": "markdown",
   "id": "bc57a115",
   "metadata": {},
   "source": [
    "Con el diagrama de cajas observamos que tenemos presencia de outliers en todas nuestras variables numéricas excepto en la variable \"day\"."
   ]
  },
  {
   "cell_type": "markdown",
   "id": "c4ae4d17",
   "metadata": {},
   "source": [
    "A continuación, visualizaremos el porcentaje de outliers con respecto al total en cada una de nuestras variables para poder considerar si debemos tomar la decisión de eliminar alguna de estas variables por su alta presencia de valores atípicos."
   ]
  },
  {
   "cell_type": "code",
   "execution_count": 23,
   "id": "87837112",
   "metadata": {},
   "outputs": [],
   "source": [
    "Q1 = data.quantile(0.25)\n",
    "Q3 = data.quantile(0.75)\n",
    "IQR = Q3 - Q1"
   ]
  },
  {
   "cell_type": "code",
   "execution_count": 26,
   "id": "a4bb741d",
   "metadata": {},
   "outputs": [
    {
     "name": "stderr",
     "output_type": "stream",
     "text": [
      "<ipython-input-26-f3c81b675d20>:1: FutureWarning: Automatic reindexing on DataFrame vs Series comparisons is deprecated and will raise ValueError in a future version.  Do `left, right = left.align(right, axis=1, copy=False)` before e.g. `left == right`\n",
      "  ( (data < (Q1 - 1.5 * IQR)) | (data > (Q3 + 1.5 * IQR)) ).sum() / data.shape[0] * 100\n",
      "<ipython-input-26-f3c81b675d20>:1: FutureWarning: Automatic reindexing on DataFrame vs Series comparisons is deprecated and will raise ValueError in a future version.  Do `left, right = left.align(right, axis=1, copy=False)` before e.g. `left == right`\n",
      "  ( (data < (Q1 - 1.5 * IQR)) | (data > (Q3 + 1.5 * IQR)) ).sum() / data.shape[0] * 100\n"
     ]
    },
    {
     "data": {
      "text/plain": [
       "age           1.531984\n",
       "balance       9.451711\n",
       "campaign      5.384340\n",
       "contact       0.000000\n",
       "day           0.000000\n",
       "default       0.000000\n",
       "deposit       0.000000\n",
       "duration      5.697904\n",
       "education     0.000000\n",
       "housing       0.000000\n",
       "job           0.000000\n",
       "loan          0.000000\n",
       "marital       0.000000\n",
       "month         0.000000\n",
       "pdays        24.672998\n",
       "poutcome      0.000000\n",
       "previous     11.270382\n",
       "dtype: float64"
      ]
     },
     "execution_count": 26,
     "metadata": {},
     "output_type": "execute_result"
    }
   ],
   "source": [
    "( (data < (Q1 - 1.5 * IQR)) | (data > (Q3 + 1.5 * IQR)) ).sum() / data.shape[0] * 100"
   ]
  },
  {
   "cell_type": "markdown",
   "id": "03f21318",
   "metadata": {},
   "source": [
    "Los resultados nos arrojan que la variable \"pdays\" tiene un 24% de presencia de outliers respecto al total de filas, lo cual siguiendo la buena práctica de eliminar aquellas variables que superen un umbral del 15% de valores atípicos, procederemos a eliminar esta variable ya que puede inferir de forma negativa en el análisis y la predicción del futuro modelo de clasificación que se construirá. Otro dato a tomar en cuenta, es que esta variable es la misma que presentaba valores iguales a -1, los cuales reemplazamos con 0, donde quizá los valores etiquetados como -1 se debieron a una corrupción en los datos, con lo cual tenemos un motivo más para eliminar esta variable."
   ]
  },
  {
   "cell_type": "code",
   "execution_count": 27,
   "id": "8e0959ec",
   "metadata": {},
   "outputs": [],
   "source": [
    "data = data.drop([\"pdays\"], axis=1)"
   ]
  },
  {
   "cell_type": "markdown",
   "id": "531ec531",
   "metadata": {},
   "source": [
    "#### Age"
   ]
  },
  {
   "cell_type": "code",
   "execution_count": 32,
   "id": "507a90b8",
   "metadata": {},
   "outputs": [
    {
     "data": {
      "text/plain": [
       "<AxesSubplot:xlabel='age', ylabel='Density'>"
      ]
     },
     "execution_count": 32,
     "metadata": {},
     "output_type": "execute_result"
    },
    {
     "data": {
      "image/png": "[encoded data removed]",
      "text/plain": [
       "<Figure size 1008x504 with 2 Axes>"
      ]
     },
     "metadata": {
      "needs_background": "light"
     },
     "output_type": "display_data"
    }
   ],
   "source": [
    "fig, ax = plt.subplots(1, 2, figsize=(14,7))\n",
    "plt.subplots_adjust(wspace=0.3)\n",
    "sns.boxplot(ax=ax[0], data= data[[\"age\"]], palette=\"Set3\")\n",
    "sns.distplot(data[\"age\"], ax=ax[1])\n",
    "plt.show()"
   ]
  },
  {
   "cell_type": "markdown",
   "id": "592a6c8f",
   "metadata": {},
   "source": [
    "De los siguientes gráficos podemos observar que los datos que son catalogados como atípicos según el rango intercuartílico son personas que superan los 75 años de edad sin llegar a pasar los 95 años. Este rango de edad no es ningún error o corrupción en los datos, ya que la mayoría de personas con una calidad de vida adecuada podrían alcanzar este rango, por lo tanto, tenemos dos opciones para tratarlos:\n",
    "* Eliminar las filas que contengan estas edades debido a que su presencia es tan solo del 1.5% del total.\n",
    "* Imputarlos haciendo uso de un algoritmo predictivo.\n",
    "\n",
    "Todos estos métodos resultan aceptables, pero en este caso optaremos por imputarlos por un valor aproximado a lo \"normal\" que refleje la misma conducta que el valor atípico, más que todo para no perder información. De igual forma, al momento del entrenamiento y la elección del mejor modelo de clasificación, se comparará el rendimiento de un modelo libre de outliers con uno con outliers con el fin de observar si nuestra decisión fue acertada."
   ]
  },
  {
   "cell_type": "markdown",
   "id": "1e13a163",
   "metadata": {},
   "source": [
    "#### Campaign"
   ]
  },
  {
   "cell_type": "code",
   "execution_count": 34,
   "id": "d0c86b2d",
   "metadata": {},
   "outputs": [
    {
     "data": {
      "text/plain": [
       "<AxesSubplot:xlabel='campaign', ylabel='Density'>"
      ]
     },
     "execution_count": 34,
     "metadata": {},
     "output_type": "execute_result"
    },
    {
     "data": {
      "image/png": "[encoded data removed]",
      "text/plain": [
       "<Figure size 1008x504 with 2 Axes>"
      ]
     },
     "metadata": {
      "needs_background": "light"
     },
     "output_type": "display_data"
    }
   ],
   "source": [
    "fig, ax = plt.subplots(1, 2, figsize=(14,7))\n",
    "plt.subplots_adjust(wspace=0.3)\n",
    "sns.boxplot(ax=ax[0], data= data[[\"campaign\"]], palette=\"Set3\")\n",
    "sns.distplot(data[\"campaign\"], ax=ax[1])\n",
    "plt.show()"
   ]
  },
  {
   "cell_type": "markdown",
   "id": "5d1c533f",
   "metadata": {},
   "source": [
    "Con respecto a esta variable, observamos que la inmensa mayoría de nuestros datos tienen un valor entre 1 y 5, mientras que los datos atípicos adquieren valores superiores a este rango. Evidentemente este es un comportamiento inusual ya que, según nuestros datos, comúnmente solo se realizan entre 1 y 5 contactos con el cliente antes de que este tome una decisión final, por ende, números de contactos iguales a 10, 20, 30 e incluso mayores a 40 son demasiado extraños de ver. Por ende, procederemos a imputar estos valores por estimaciones que se aproximen a un valor común."
   ]
  },
  {
   "cell_type": "markdown",
   "id": "121268d8",
   "metadata": {},
   "source": [
    "#### Previous"
   ]
  },
  {
   "cell_type": "code",
   "execution_count": 37,
   "id": "64a6e9fb",
   "metadata": {},
   "outputs": [
    {
     "data": {
      "image/png": "[encoded data removed]",
      "text/plain": [
       "<Figure size 1008x504 with 2 Axes>"
      ]
     },
     "metadata": {
      "needs_background": "light"
     },
     "output_type": "display_data"
    }
   ],
   "source": [
    "fig, ax = plt.subplots(1, 2, figsize=(14,7))\n",
    "plt.subplots_adjust(wspace=0.3)\n",
    "sns.boxplot(ax=ax[0], data= data[[\"previous\"]], palette=\"Set3\")\n",
    "sns.distplot(data[\"previous\"], ax=ax[1])\n",
    "plt.show()"
   ]
  },
  {
   "cell_type": "markdown",
   "id": "56582d89",
   "metadata": {},
   "source": [
    "Al igual que en la variable \"campaign\", \"previous\" aparte de tener una definición similar (número de contactos con el cliente en la campaña anterior), este también presenta un comportamiento similar, en donde se observa que los valores comunes están en un rango entre 0 y 3, y que los datos considerados como atípicos toman valores superiores a este rango, llegando incluso a ser excesivos. Es por ello que se tomara la misma decisión de imputarlos al igual que \"campaign\"."
   ]
  },
  {
   "cell_type": "markdown",
   "id": "364bb2d3",
   "metadata": {},
   "source": [
    "#### Balance"
   ]
  },
  {
   "cell_type": "code",
   "execution_count": 39,
   "id": "c2c5417b",
   "metadata": {},
   "outputs": [
    {
     "data": {
      "image/png": "[encoded data removed]",
      "text/plain": [
       "<Figure size 1008x504 with 2 Axes>"
      ]
     },
     "metadata": {
      "needs_background": "light"
     },
     "output_type": "display_data"
    }
   ],
   "source": [
    "fig, ax = plt.subplots(1, 2, figsize=(14,7))\n",
    "plt.subplots_adjust(wspace=0.3)\n",
    "sns.boxplot(ax=ax[0], data= data[[\"balance\"]], palette=\"Set3\")\n",
    "sns.distplot(data[\"balance\"], ax=ax[1])\n",
    "plt.show()"
   ]
  },
  {
   "cell_type": "markdown",
   "id": "540be7c8",
   "metadata": {},
   "source": [
    "Un comportamiento similar a las anteriores gráficas observamos en esta variable, donde nuevamente tenemos un sesgo por la derecha en donde los datos comunes adquieren valores entre -300 y 4000, y los que son atípicos llegan a superar fácilmente este umbral, aunque resulta más común que lo superen en forma positiva que en forma negativa, lo cual podemos deducir que, en términos de valores atípicos, es más común encontrar datos anormalmente altos que datos anormalmente bajos. Debido a que el porcentaje de datos atípicos para esta variable es del 9.4%, el cual no es un valor ni muy grande ni muy pequeño, no conviene eliminarlos, es por ello que los imputaremos por un nuevo valor aproximado que entre en un rango más común."
   ]
  },
  {
   "cell_type": "markdown",
   "id": "b3f1e9ec",
   "metadata": {},
   "source": [
    "#### Duration"
   ]
  },
  {
   "cell_type": "code",
   "execution_count": 41,
   "id": "d74266e4",
   "metadata": {},
   "outputs": [
    {
     "data": {
      "image/png": "[encoded data removed]",
      "text/plain": [
       "<Figure size 1008x504 with 2 Axes>"
      ]
     },
     "metadata": {
      "needs_background": "light"
     },
     "output_type": "display_data"
    }
   ],
   "source": [
    "fig, ax = plt.subplots(1, 2, figsize=(14,7))\n",
    "plt.subplots_adjust(wspace=0.3)\n",
    "sns.boxplot(ax=ax[0], data= data[[\"duration\"]], palette=\"Set3\")\n",
    "sns.distplot(data[\"duration\"], ax=ax[1])\n",
    "plt.show()"
   ]
  },
  {
   "cell_type": "markdown",
   "id": "a345094c",
   "metadata": {},
   "source": [
    "Esta variable también presenta un sesgo notorio por la derecha al igual que las variables anteriores, con la diferencia que su distribución parece ser más equitativa respecto a las demás, aquí podemos apreciar que los valores comunes están en un rango entre 0 y 1000 segundos (16 minutos aprox.) y que los que son considerados atípicos superan fácilmente este rango, llegando incluso a ser superiores a los 3000 segundos (50 minutos). Observar que una llamada entre un empleado del banco y un cliente supere los 30 minutos es un comportamiento inusual y que no se acostumbra a tener, es por ello que estos datos deben ser tratados, y para este caso haremos uso de la imputación iterativa aplicando bosques aleatorios para reemplazar dichos valores por unos que se acerquen a un comportamiento común de observar."
   ]
  },
  {
   "cell_type": "markdown",
   "id": "0913c36b",
   "metadata": {},
   "source": [
    "### Imputación de outliers"
   ]
  },
  {
   "cell_type": "markdown",
   "id": "1880d023",
   "metadata": {},
   "source": [
    "Crearemos una copia del conjunto de datos original con el fin de que mas adelante podamos comparar el rendimiento de nuestro modelo predictivo en ambos conjuntos (datos con outliers y sin outliers)."
   ]
  },
  {
   "cell_type": "code",
   "execution_count": 42,
   "id": "d34869bb",
   "metadata": {},
   "outputs": [],
   "source": [
    "data2 = data.copy()"
   ]
  },
  {
   "cell_type": "markdown",
   "id": "0bb258c8",
   "metadata": {},
   "source": [
    "El primer paso para realizar la imputación será convertir todos los valores atípicos que se hayan detectado mediante el rango intercuartílico por NaN, ya que la función que utilizaremos para la imputación trabaja con este tipo de datos."
   ]
  },
  {
   "cell_type": "code",
   "execution_count": 43,
   "id": "8dc28945",
   "metadata": {},
   "outputs": [],
   "source": [
    "outliers = (data2 < (Q1 - 1.5 * IQR)) | (data2 > (Q3 + 1.5 * IQR))\n",
    "data2[outliers] = np.nan"
   ]
  },
  {
   "cell_type": "markdown",
   "id": "64daff66",
   "metadata": {},
   "source": [
    "Ahora tenemos que aplicar una codificación para nuestras variables categóricas, debido a que usaremos bosques aleatorios como medio de imputación, bastara con aplicar un label encoder."
   ]
  },
  {
   "cell_type": "code",
   "execution_count": 44,
   "id": "d4fccad4",
   "metadata": {},
   "outputs": [],
   "source": [
    "# Nombres de nuestras variables categóricas\n",
    "cols = [\"job\", \"marital\", \"education\", \"default\", \"housing\", \"loan\", \"contact\", \"month\", \"poutcome\", \"deposit\"]\n",
    "\n",
    "# Diccionario para almacenar la codificación realizada en cada variable (Útil para después revertir la transformación)\n",
    "dic = {}\n",
    "\n",
    "for col in cols:\n",
    "    dic[col] = LabelEncoder().fit(data2[col])\n",
    "    data2[col] = dic[col].transform(data2[col])"
   ]
  },
  {
   "cell_type": "markdown",
   "id": "b00bd67d",
   "metadata": {},
   "source": [
    "El siguiente paso ahora es dividir nuestros datos en conjuntos de entrenamiento y prueba con el fin de evitar la fuga de datos."
   ]
  },
  {
   "cell_type": "code",
   "execution_count": 45,
   "id": "6e386187",
   "metadata": {},
   "outputs": [],
   "source": [
    "# Guardamos los nombres de las columnas de nuestro Dataset (Útil para después concatenar estos conjuntos en uno solo)\n",
    "nom_cols = data2.columns.values\n",
    "\n",
    "X = data2.iloc[: , :-1].values\n",
    "y = data2.iloc[: , -1].values\n",
    "\n",
    "X_train, X_test, y_train, y_test = train_test_split(X, y, test_size=0.30, random_state=21, stratify=y)"
   ]
  },
  {
   "cell_type": "markdown",
   "id": "689112cf",
   "metadata": {},
   "source": [
    "Finalmente, procederemos a realizar la imputación."
   ]
  },
  {
   "cell_type": "code",
   "execution_count": 46,
   "id": "9398e54b",
   "metadata": {},
   "outputs": [],
   "source": [
    "imputer = IterativeImputer(estimator=RandomForestRegressor(random_state=21), random_state=21)\n",
    "X_train = imputer.fit_transform(X_train)"
   ]
  },
  {
   "cell_type": "code",
   "execution_count": 47,
   "id": "c41ceb9a",
   "metadata": {},
   "outputs": [],
   "source": [
    "X_test = imputer.transform(X_test)"
   ]
  },
  {
   "cell_type": "markdown",
   "id": "57921cd1",
   "metadata": {},
   "source": [
    "Para visualizar el resultado de nuestra imputación de forma cómoda y gráfica, será necesario concatenar todos los subconjuntos que hemos creado en uno solo como teníamos inicialmente y revertir la codificación de nuestras variables categóricas."
   ]
  },
  {
   "cell_type": "code",
   "execution_count": 48,
   "id": "050a279d",
   "metadata": {},
   "outputs": [],
   "source": [
    "X_train = pd.DataFrame(X_train)\n",
    "X_test = pd.DataFrame(X_test)\n",
    "y_train = pd.DataFrame(y_train)\n",
    "y_test = pd.DataFrame(y_test)\n",
    "\n",
    "X = pd.concat([X_train, X_test], axis=0)\n",
    "y = pd.concat([y_train, y_test], axis=0)\n",
    "\n",
    "data2 = pd.concat([X, y], axis=1)\n",
    "\n",
    "data2.columns = nom_cols  # Se les introduce los nombres de las columnas con la variable anteriormente creada\n",
    "\n",
    "# Se invierte la codificación\n",
    "for col in cols:\n",
    "    data2[col] = dic[col].inverse_transform(data2[col].astype(int))"
   ]
  },
  {
   "cell_type": "markdown",
   "id": "b38a46db",
   "metadata": {},
   "source": [
    "Debido a que las predicciones hechas por los bosques aleatorios se basan en el promedio del resultado de varios árboles de decisión, tendremos algunos datos imputados como decimal en variables que son enteras, como en el caso de \"age\", es por ello que redondearemos dichos valores decimales en cada variable que solo contenga valores enteros."
   ]
  },
  {
   "cell_type": "code",
   "execution_count": 49,
   "id": "ad8a056e",
   "metadata": {},
   "outputs": [],
   "source": [
    "for col in [\"age\", \"day\", \"campaign\", \"previous\", \"balance\", \"duration\"]:\n",
    "    data2[col] = data2[col].round()"
   ]
  },
  {
   "cell_type": "markdown",
   "id": "2f6dc792",
   "metadata": {},
   "source": [
    "Ahora si podemos graficar para observar el cambio en nuestros datos después de la imputación."
   ]
  },
  {
   "cell_type": "code",
   "execution_count": 53,
   "id": "6cde5721",
   "metadata": {},
   "outputs": [
    {
     "data": {
      "image/png": "[encoded data removed]",
      "text/plain": [
       "<Figure size 1152x504 with 3 Axes>"
      ]
     },
     "metadata": {
      "needs_background": "light"
     },
     "output_type": "display_data"
    }
   ],
   "source": [
    "fig, ax = plt.subplots(1, 3, figsize=(16,7))\n",
    "plt.subplots_adjust(wspace=0.3)\n",
    "sns.boxplot(ax=ax[0], data= data2[[\"age\", \"day\", \"campaign\", \"previous\"]], palette=\"Set3\")\n",
    "sns.boxplot(ax=ax[1], data= data2[[\"balance\"]], palette=\"Pastel1\")\n",
    "sns.boxplot(ax=ax[2], data= data2[[\"duration\"]], palette=\"Pastel1\")\n",
    "plt.show()"
   ]
  },
  {
   "cell_type": "markdown",
   "id": "216f609d",
   "metadata": {},
   "source": [
    "Del grafico podemos observar que todas las variables a excepción de \"balance\" y \"duration\" están libres de outliers."
   ]
  },
  {
   "cell_type": "code",
   "execution_count": 60,
   "id": "b12fa0c9",
   "metadata": {},
   "outputs": [
    {
     "data": {
      "image/png": "[encoded data removed]",
      "text/plain": [
       "<Figure size 1008x504 with 2 Axes>"
      ]
     },
     "metadata": {
      "needs_background": "light"
     },
     "output_type": "display_data"
    },
    {
     "data": {
      "image/png": "[encoded data removed]",
      "text/plain": [
       "<Figure size 1008x504 with 2 Axes>"
      ]
     },
     "metadata": {
      "needs_background": "light"
     },
     "output_type": "display_data"
    }
   ],
   "source": [
    "fig, ax = plt.subplots(1, 2, figsize=(14,7))\n",
    "plt.subplots_adjust(wspace=0.3)\n",
    "sns.boxplot(ax=ax[0], data= data2[[\"balance\"]], palette=\"Set3\")\n",
    "sns.distplot(data2[\"balance\"], ax=ax[1])\n",
    "\n",
    "fig, ax = plt.subplots(1, 2, figsize=(14,7))\n",
    "plt.subplots_adjust(wspace=0.3)\n",
    "sns.boxplot(ax=ax[0], data= data2[[\"duration\"]], palette=\"Set3\")\n",
    "sns.distplot(data2[\"duration\"], ax=ax[1])\n",
    "\n",
    "plt.show()"
   ]
  },
  {
   "cell_type": "markdown",
   "id": "bc3f40a5",
   "metadata": {},
   "source": [
    "Analizando las variables que aún tienen presencia de valores atípicos, se ve que la varianza en la distribución de estos valores ya no es tan extrema como teníamos inicialmente, si no que ahora se distribuyen en un rango menor a 1000 unidades, incluso pudiéndose acercar a una distribución normal."
   ]
  },
  {
   "cell_type": "code",
   "execution_count": 61,
   "id": "15ae927c",
   "metadata": {},
   "outputs": [],
   "source": [
    "Q1 = data2.quantile(0.25)\n",
    "Q3 = data2.quantile(0.75)\n",
    "IQR = Q3 - Q1"
   ]
  },
  {
   "cell_type": "code",
   "execution_count": 62,
   "id": "b4304bdc",
   "metadata": {},
   "outputs": [
    {
     "data": {
      "text/plain": [
       "age          0.000000\n",
       "balance      5.644150\n",
       "campaign     0.000000\n",
       "contact      0.000000\n",
       "day          0.000000\n",
       "default      0.000000\n",
       "deposit      0.000000\n",
       "duration     4.139043\n",
       "education    0.000000\n",
       "housing      0.000000\n",
       "job          0.000000\n",
       "loan         0.000000\n",
       "marital      0.000000\n",
       "month        0.000000\n",
       "poutcome     0.000000\n",
       "previous     0.000000\n",
       "dtype: float64"
      ]
     },
     "execution_count": 62,
     "metadata": {},
     "output_type": "execute_result"
    }
   ],
   "source": [
    "( (data2 < (Q1 - 1.5 * IQR)) | (data2 > (Q3 + 1.5 * IQR)) ).sum() / data2.shape[0] * 100"
   ]
  },
  {
   "cell_type": "markdown",
   "id": "829f736b",
   "metadata": {},
   "source": [
    "A la vez que también observamos que estos datos atípicos solo constituyen el 5.6% y 4.1% respectivamente del total, lo cual es una cifra moderadamente baja. Entonces podemos tomar dos decisiones, eliminarlos o conservarlos como parte de nuestros datos. En esta ocasión, elegiré conservarlos ya que pueden contener información útil para el análisis y para el modelo de clasificación, además que su presencia es relativamente baja con respecto del total y su distancia de los extremos no es tan alarmante ni exagerada."
   ]
  },
  {
   "cell_type": "markdown",
   "id": "7fa1438a",
   "metadata": {},
   "source": [
    "### Identificación de valores faltantes"
   ]
  },
  {
   "cell_type": "markdown",
   "id": "d689c22d",
   "metadata": {},
   "source": [
    "Observamos cuantos valores faltantes hay en nuestro conjunto de datos."
   ]
  },
  {
   "cell_type": "code",
   "execution_count": 63,
   "id": "6498728a",
   "metadata": {},
   "outputs": [
    {
     "data": {
      "text/plain": [
       "0"
      ]
     },
     "execution_count": 63,
     "metadata": {},
     "output_type": "execute_result"
    }
   ],
   "source": [
    "data2.isnull().sum().sum()"
   ]
  },
  {
   "cell_type": "markdown",
   "id": "c1c80be7",
   "metadata": {},
   "source": [
    "Debido a que no hay presencia de valores faltantes o nulos, no será necesario tomar acciones al respecto."
   ]
  },
  {
   "cell_type": "code",
   "execution_count": null,
   "id": "77219c94",
   "metadata": {},
   "outputs": [],
   "source": []
  }
 ],
 "metadata": {
  "kernelspec": {
   "display_name": "Python 3",
   "language": "python",
   "name": "python3"
  },
  "language_info": {
   "codemirror_mode": {
    "name": "ipython",
    "version": 3
   },
   "file_extension": ".py",
   "mimetype": "text/x-python",
   "name": "python",
   "nbconvert_exporter": "python",
   "pygments_lexer": "ipython3",
   "version": "3.8.8"
  }
 },
 "nbformat": 4,
 "nbformat_minor": 5
}
